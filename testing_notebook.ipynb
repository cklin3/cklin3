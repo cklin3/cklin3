{
 "cells": [
  {
   "cell_type": "markdown",
   "id": "584ccd72",
   "metadata": {},
   "source": [
    "### Test notebook\n",
    "#### Testing 123"
   ]
  },
  {
   "cell_type": "code",
   "execution_count": null,
   "id": "898e8803",
   "metadata": {},
   "outputs": [],
   "source": [
    "import pandas as pd\n",
    "import bqplot\n",
    "import numpy as np\n",
    "import ipywidgets\n",
    "import matplotlib.pyplot as plt"
   ]
  },
  {
   "cell_type": "code",
   "execution_count": null,
   "id": "c89e624e",
   "metadata": {},
   "outputs": [],
   "source": [
    "buildings = pd.read_csv(\"https://uiuc-ischool-dataviz.github.io/is445_spring2022/week03/data/building_inventory.csv\")"
   ]
  },
  {
   "cell_type": "code",
   "execution_count": null,
   "id": "8884b992",
   "metadata": {},
   "outputs": [],
   "source": [
    "buildings[\"City\"]"
   ]
  },
  {
   "cell_type": "code",
   "execution_count": 1,
   "id": "34ce073f",
   "metadata": {},
   "outputs": [
    {
     "name": "stdout",
     "output_type": "stream",
     "text": [
      "Hello World!\n"
     ]
    }
   ],
   "source": [
    "print(\"Hello World!\")"
   ]
  },
  {
   "cell_type": "code",
   "execution_count": 2,
   "id": "9f7b81e7",
   "metadata": {},
   "outputs": [
    {
     "name": "stdout",
     "output_type": "stream",
     "text": [
      "Testing for mybinder\n"
     ]
    }
   ],
   "source": [
    "print(\"Testing for mybinder\")"
   ]
  }
 ],
 "metadata": {
  "kernelspec": {
   "display_name": "Python 3 (ipykernel)",
   "language": "python",
   "name": "python3"
  },
  "language_info": {
   "codemirror_mode": {
    "name": "ipython",
    "version": 3
   },
   "file_extension": ".py",
   "mimetype": "text/x-python",
   "name": "python",
   "nbconvert_exporter": "python",
   "pygments_lexer": "ipython3",
   "version": "3.7.12"
  }
 },
 "nbformat": 4,
 "nbformat_minor": 5
}
